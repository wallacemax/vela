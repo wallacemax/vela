{
 "cells": [
  {
   "cell_type": "code",
   "execution_count": 10,
   "metadata": {},
   "outputs": [],
   "source": [
    "import pandas as pd\n",
    "import seaborn as sb\n",
    "import scipy as sp\n",
    "import json\n",
    "\n",
    "VELA_mfp_distance = 118000000; #meters #probably wrong\n",
    "        \n"
   ]
  },
  {
   "cell_type": "code",
   "execution_count": 15,
   "metadata": {},
   "outputs": [
    {
     "name": "stdout",
     "output_type": "stream",
     "text": [
      "                                                  22  \\\n",
      "0  [[1.00000E-03, 5.869E+03, 5.860E+03], [1.50000...   \n",
      "1                                                NaN   \n",
      "2                                                NaN   \n",
      "3                                                NaN   \n",
      "4                                                NaN   \n",
      "\n",
      "                                                  27  \\\n",
      "0                                                NaN   \n",
      "1  [[1.00000E-03, 9.796E+03, 9.750E+03], [1.50000...   \n",
      "2                                                NaN   \n",
      "3                                                NaN   \n",
      "4                                                NaN   \n",
      "\n",
      "                                                  40  \\\n",
      "0                                                NaN   \n",
      "1                                                NaN   \n",
      "2  [[1.00000E-03, 4.210E+03, 4.203E+03], [1.50000...   \n",
      "3                                                NaN   \n",
      "4                                                NaN   \n",
      "\n",
      "                                                  42  \\\n",
      "0                                                NaN   \n",
      "1                                                NaN   \n",
      "2                                                NaN   \n",
      "3  [[1.00000E-03, 4.942E+03, 4.935E+03], [1.50000...   \n",
      "4                                                NaN   \n",
      "\n",
      "                                                  41   24   48   50   82   74  \\\n",
      "0                                                NaN  NaN  NaN  NaN  NaN  NaN   \n",
      "1                                                NaN  NaN  NaN  NaN  NaN  NaN   \n",
      "2                                                NaN  NaN  NaN  NaN  NaN  NaN   \n",
      "3                                                NaN  NaN  NaN  NaN  NaN  NaN   \n",
      "4  [[1.00000E-03, 4.600E+03, 4.592E+03], [1.50000...  NaN  NaN  NaN  NaN  NaN   \n",
      "\n",
      "    26   23   28   29   30   25  \n",
      "0  NaN  NaN  NaN  NaN  NaN  NaN  \n",
      "1  NaN  NaN  NaN  NaN  NaN  NaN  \n",
      "2  NaN  NaN  NaN  NaN  NaN  NaN  \n",
      "3  NaN  NaN  NaN  NaN  NaN  NaN  \n",
      "4  NaN  NaN  NaN  NaN  NaN  NaN  \n"
     ]
    }
   ],
   "source": [
    "#read xray attenuation constants, create equations\n",
    "with open('z.json', 'r') as JSON:\n",
    "        json_dict = json.load(JSON);\n",
    "\n",
    "#https://physics.nist.gov/PhysRefData/XrayMassCoef/ElemTab/z07.html\n",
    "#energy, mass attenuation coefficient, μ/ρ, and the mass energy-absorption coefficient, μen/ρ\n",
    "# E \t      \tμ/ρ \t      \tμ_{en}/ρ \n",
    "# (MeV)\t(cm2/g) \t(cm2/g)\n",
    "df = pd.DataFrame(data = json_dict);\n",
    "print(df.head(5))\n",
    "\n",
    "#df=pd.DataFrame([(j,z,h) for i in json_dict.values() for j in json_dict.keys() for h,z in i.items()],columns=['E','mu_rho','mu_en_rho']);"
   ]
  },
  {
   "cell_type": "code",
   "execution_count": 7,
   "metadata": {},
   "outputs": [],
   "source": [
    "#read VELA sensor data\n",
    "#6909: FR\n",
    "#6911: Event 747\n",
    "colnames = ['n','val'];\n",
    "df_6909_YCA = pd.read_csv('6909_YCA_raw', names=colnames, delimiter='\\t');\n",
    "df_6909_YVA = pd.read_csv('6909_YVA_raw', names=colnames, delimiter='\\t');\n",
    "df_6911_YCA = pd.read_csv('6911_YCA_raw', names=colnames, delimiter='\\t');\n",
    "df_6911_YVA = pd.read_csv('6911_YVA_raw', names=colnames, delimiter='\\t');\n"
   ]
  },
  {
   "cell_type": "code",
   "execution_count": 9,
   "metadata": {},
   "outputs": [
    {
     "name": "stdout",
     "output_type": "stream",
     "text": [
      "                                                  22  \\\n",
      "0  [[1.00000E-03, 5.869E+03, 5.860E+03], [1.50000...   \n",
      "1                                                NaN   \n",
      "2                                                NaN   \n",
      "3                                                NaN   \n",
      "4                                                NaN   \n",
      "\n",
      "                                                  27  \\\n",
      "0                                                NaN   \n",
      "1  [[1.00000E-03, 9.796E+03, 9.750E+03], [1.50000...   \n",
      "2                                                NaN   \n",
      "3                                                NaN   \n",
      "4                                                NaN   \n",
      "\n",
      "                                                  40  \\\n",
      "0                                                NaN   \n",
      "1                                                NaN   \n",
      "2  [[1.00000E-03, 4.210E+03, 4.203E+03], [1.50000...   \n",
      "3                                                NaN   \n",
      "4                                                NaN   \n",
      "\n",
      "                                                  42  \\\n",
      "0                                                NaN   \n",
      "1                                                NaN   \n",
      "2                                                NaN   \n",
      "3  [[1.00000E-03, 4.942E+03, 4.935E+03], [1.50000...   \n",
      "4                                                NaN   \n",
      "\n",
      "                                                  41   24   48   50   82   74  \\\n",
      "0                                                NaN  NaN  NaN  NaN  NaN  NaN   \n",
      "1                                                NaN  NaN  NaN  NaN  NaN  NaN   \n",
      "2                                                NaN  NaN  NaN  NaN  NaN  NaN   \n",
      "3                                                NaN  NaN  NaN  NaN  NaN  NaN   \n",
      "4  [[1.00000E-03, 4.600E+03, 4.592E+03], [1.50000...  NaN  NaN  NaN  NaN  NaN   \n",
      "\n",
      "    26   23   28   29   30   25  \n",
      "0  NaN  NaN  NaN  NaN  NaN  NaN  \n",
      "1  NaN  NaN  NaN  NaN  NaN  NaN  \n",
      "2  NaN  NaN  NaN  NaN  NaN  NaN  \n",
      "3  NaN  NaN  NaN  NaN  NaN  NaN  \n",
      "4  NaN  NaN  NaN  NaN  NaN  NaN  \n"
     ]
    }
   ],
   "source": [
    "\n",
    "print(df_attenuation_constants.head(5));"
   ]
  },
  {
   "cell_type": "code",
   "execution_count": null,
   "metadata": {},
   "outputs": [],
   "source": []
  }
 ],
 "metadata": {
  "kernelspec": {
   "display_name": "Python 3.8.13 ('base')",
   "language": "python",
   "name": "python3"
  },
  "language_info": {
   "codemirror_mode": {
    "name": "ipython",
    "version": 3
   },
   "file_extension": ".py",
   "mimetype": "text/x-python",
   "name": "python",
   "nbconvert_exporter": "python",
   "pygments_lexer": "ipython3",
   "version": "3.8.13"
  },
  "orig_nbformat": 4,
  "vscode": {
   "interpreter": {
    "hash": "40d3a090f54c6569ab1632332b64b2c03c39dcf918b08424e98f38b5ae0af88f"
   }
  }
 },
 "nbformat": 4,
 "nbformat_minor": 2
}
